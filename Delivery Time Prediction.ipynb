{
 "cells": [
  {
   "cell_type": "code",
   "execution_count": 12,
   "id": "5d2a9a21",
   "metadata": {},
   "outputs": [],
   "source": [
    "import pandas as pd"
   ]
  },
  {
   "cell_type": "code",
   "execution_count": 13,
   "id": "bfa1746b",
   "metadata": {},
   "outputs": [],
   "source": [
    "orders = pd.read_csv(\"olist_orders_dataset.csv\")\n",
    "\n",
    "items = pd.read_csv(\"olist_order_items_dataset.csv\")\n",
    "\n",
    "customers = pd.read_csv(\"olist_customers_dataset.csv\")\n",
    "\n",
    "sellers = pd.read_csv(\"olist_sellers_dataset.csv\")\n",
    "\n",
    "geo = pd.read_csv(\"olist_geolocation_dataset.csv\")\n",
    "\n",
    "products = pd.read_csv(\"olist_products_dataset.csv\")"
   ]
  },
  {
   "cell_type": "markdown",
   "id": "17065796",
   "metadata": {},
   "source": [
    "### Listed Necessary Column/Features:\n",
    "#### Delivery Date (orders)\n",
    "#### Estimated delivery date (orders)\n",
    "####  Purchase Date (orders)\n",
    "####  seller state (sellers)\n",
    "####  customer state (customers)\n",
    "####   product_size (products)\n",
    "####   product_weight (products)\n",
    "####  Distance of Delivery (derived)"
   ]
  },
  {
   "cell_type": "code",
   "execution_count": 16,
   "id": "fb7e8478",
   "metadata": {},
   "outputs": [],
   "source": [
    "# Get seller zip code of each order\n",
    "# [order_id, seller_id]\n",
    "#\n",
    "orderIdSellerId = items[['order_id', 'seller_id']]\n",
    "\n",
    "# [order_id, seller_id, seller_zip_code_prefix]\n",
    "#\n",
    "orderIdSellerIdWithZip = orderIdSellerId.merge(sellers[['seller_id', 'seller_zip_code_prefix']], \n",
    "                                               on = \"seller_id\", how = \"outer\")\n",
    "\n",
    "# [order_id, customer_id, order_status, order_purchase_timestamp, order_approved_at,\n",
    "#  order_delivered_carrier_date, order_delivered_customer_date, order_estimated_delivery_date,\n",
    "#  seller_id, seller_zip_code_prefix]\n",
    "#\n",
    "orders = orders.merge(orderIdSellerIdWithZip, on = \"order_id\", how = \"left\")\n",
    "\n",
    "# Get customer zip code of each order\n",
    "#\n",
    "# [order_id, customer_id, order_status, order_purchase_timestamp, order_approved_at,\n",
    "#  order_delivered_carrier_date, order_delivered_customer_date, order_estimated_delivery_date,\n",
    "#  seller_id, seller_zip_code_prefix, customer_zip_code_prefix]\n",
    "#\n",
    "orders = orders.merge(customers[['customer_id', 'customer_zip_code_prefix']],\n",
    "                      on = 'customer_id', how = \"left\")\n",
    "\n",
    "# Clean geo duplicates\n",
    "#\n",
    "geo = geo[~geo['geolocation_zip_code_prefix'].duplicated()]\n",
    "\n",
    "# Add seller coordinates to the orders\n",
    "#\n",
    "# [order_id, customer_id, order_status, order_purchase_timestamp, order_approved_at,\n",
    "#  order_delivered_carrier_date, order_delivered_customer_date, order_estimated_delivery_date,\n",
    "#  seller_id, seller_zip_code_prefix, customer_zip_code_prefix, geolocation_zip_code_prefix,\n",
    "#  geolocation_lat, geolocation_lng, geolocation_city, geolocation_state]\n",
    "#\n",
    "orders = orders.merge(geo, \n",
    "             left_on = \"seller_zip_code_prefix\", \n",
    "             right_on = \"geolocation_zip_code_prefix\", \n",
    "             how = \"left\")\n",
    "\n",
    "# Add customer coordinates to the orders\n",
    "#\n",
    "# [order_id, customer_id, order_status, order_purchase_timestamp, order_approved_at,\n",
    "#  order_delivered_carrier_date, order_delivered_customer_date, order_estimated_delivery_date,\n",
    "#  seller_id, seller_zip_code_prefix, customer_zip_code_prefix, geolocation_zip_code_prefix_seller,\n",
    "#  geolocation_lat_seller, geolocation_lng_seller, geolocation_city_seller, geolocation_state_seller,\n",
    "#  geolocation_zip_code_prefix_customer, geolocation_lat_customer, geolocation_lng_customer,\n",
    "#  geolocation_city_customer, geolocation_state_customer]\n",
    "#\n",
    "orders = orders.merge(geo, \n",
    "             left_on = \"customer_zip_code_prefix\", \n",
    "             right_on = \"geolocation_zip_code_prefix\", \n",
    "             how = \"left\",\n",
    "             suffixes = (\"_seller\", \"_customer\"))"
   ]
  },
  {
   "cell_type": "code",
   "execution_count": null,
   "id": "33e4d116",
   "metadata": {},
   "outputs": [],
   "source": []
  }
 ],
 "metadata": {
  "kernelspec": {
   "display_name": "Python 3",
   "language": "python",
   "name": "python3"
  },
  "language_info": {
   "codemirror_mode": {
    "name": "ipython",
    "version": 3
   },
   "file_extension": ".py",
   "mimetype": "text/x-python",
   "name": "python",
   "nbconvert_exporter": "python",
   "pygments_lexer": "ipython3",
   "version": "3.8.8"
  }
 },
 "nbformat": 4,
 "nbformat_minor": 5
}
